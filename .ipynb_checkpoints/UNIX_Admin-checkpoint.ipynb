{
 "cells": [
  {
   "cell_type": "markdown",
   "metadata": {},
   "source": [
    "### Unix Administration"
   ]
  },
  {
   "cell_type": "markdown",
   "metadata": {},
   "source": [
    "#### Learning objectives:\n",
    "* Unix File system - `everything is a file` - read more [here](https://homepages.uc.edu/~thomam/Intro_Unix_Text/File_System.html)\n",
    "* What is the bash, why do we use it? - `DISCUSS!`\n",
    "* Tying UNIX commands together - `scripting`\n",
    "* Creating and running scripts - the `script file`\n",
    "* Automating shell scripts - introducing `cronjobs` \n",
    "* Further reading - installation scripts in bash and python with `fabfiles`"
   ]
  },
  {
   "cell_type": "markdown",
   "metadata": {},
   "source": [
    "---"
   ]
  },
  {
   "cell_type": "markdown",
   "metadata": {},
   "source": [
    "#### 1: The Unix Filesystem - `everything is a file!`"
   ]
  },
  {
   "cell_type": "code",
   "execution_count": null,
   "metadata": {},
   "outputs": [],
   "source": [
    "/ - root"
   ]
  },
  {
   "cell_type": "code",
   "execution_count": null,
   "metadata": {},
   "outputs": [],
   "source": [
    "/usr - user exe information is stored here"
   ]
  },
  {
   "cell_type": "code",
   "execution_count": null,
   "metadata": {},
   "outputs": [],
   "source": [
    "/home - this is the storage point for user information, my personal info"
   ]
  },
  {
   "cell_type": "code",
   "execution_count": null,
   "metadata": {},
   "outputs": [],
   "source": [
    "/bin - the folder where all of your binary code - .exe .dll "
   ]
  },
  {
   "cell_type": "code",
   "execution_count": null,
   "metadata": {},
   "outputs": [],
   "source": [
    "sudo - allows you to become the sysadmin for hte machine - USE IT WITH CAUTION"
   ]
  },
  {
   "cell_type": "code",
   "execution_count": null,
   "metadata": {},
   "outputs": [],
   "source": [
    "/etc - config files"
   ]
  },
  {
   "cell_type": "code",
   "execution_count": null,
   "metadata": {},
   "outputs": [],
   "source": [
    "/dev - device driver code goes .... PRINTERS MICE etc etc - keyboard input - anything that communicates with motherboard - cpu gpu etc"
   ]
  },
  {
   "cell_type": "code",
   "execution_count": 3,
   "metadata": {},
   "outputs": [
    {
     "name": "stdout",
     "output_type": "stream",
     "text": [
      "/home/tommu/code/spiced/gradient_garlic-code/Week_06\n"
     ]
    }
   ],
   "source": [
    "!sudo pwd "
   ]
  },
  {
   "cell_type": "markdown",
   "metadata": {},
   "source": [
    "---"
   ]
  },
  {
   "cell_type": "markdown",
   "metadata": {},
   "source": [
    "#### 2: What is bash and why do we use it? - `DISCUSS!`"
   ]
  },
  {
   "cell_type": "code",
   "execution_count": null,
   "metadata": {},
   "outputs": [],
   "source": [
    "bourne again shell - B A SH\n",
    "Shell - seashell - wrapper / container that you put stuff in\n",
    "GUI - General User Interface - anyone whose been computing since 84\n",
    "CLI - Command Line Interface - all programs were run before 84 - after punch cards\n",
    "\n",
    "Why use it? Faster....! Virtual machines connection - dont have GUIs! so we use a lightweight interface... universal\n",
    "CLI is slower than low level C code... "
   ]
  },
  {
   "cell_type": "markdown",
   "metadata": {},
   "source": [
    "---"
   ]
  },
  {
   "cell_type": "markdown",
   "metadata": {},
   "source": [
    "#### 3: Tying together UNIX commands - `scripting`\n",
    "* piping to the next stage- `|`\n",
    "* writing out to file - `>`\n",
    "* appending to file - `>>`\n",
    "* write everything on one line with `;`"
   ]
  },
  {
   "cell_type": "code",
   "execution_count": null,
   "metadata": {},
   "outputs": [],
   "source": [
    "ls , cd, grep, echo \n",
    "\n",
    "we can chain together multiple commands and do cool stuff"
   ]
  },
  {
   "cell_type": "markdown",
   "metadata": {},
   "source": [
    "---"
   ]
  },
  {
   "cell_type": "markdown",
   "metadata": {},
   "source": [
    "#### 4: Creating and running scripts - the `script file`\n",
    "* The file must start with `#!/bin/sh` or and be saved as `file.sh`\n",
    "* Essentially its a playground for your unix commands! Have fun, and learn more [here](https://www.shellscript.sh/index.html)\n",
    "* To run a script, call it with `source file.sh`"
   ]
  },
  {
   "cell_type": "code",
   "execution_count": null,
   "metadata": {},
   "outputs": [],
   "source": [
    "#!/bin/sh\n",
    "\n",
    "# simple print statements with echo\n",
    "echo \"hello world\"\n",
    "echo \"\"\n",
    "\n",
    "# indeed, any command that can be run in the shell can be run in a shell file\n",
    "history | grep \"&&\"\n",
    "echo \"\"\n",
    "\n",
    "# note we can set variables, and save the variable in the shell namespace\n",
    "variable=\"Data science rocks\"; echo $variable; export $variable\n",
    "echo \"\"\n",
    "\n",
    "# we can also take inputs from the user\n",
    "echo \"what is your name?\"\n",
    "read name\n",
    "echo \"How do you do, $name?\"\n",
    "read remark\n",
    "echo \"I am $remark too!\"\n",
    "echo \"\"\n",
    "\n",
    "#and run basic loops\n",
    "for i in 1 2 3 4 5\n",
    "do\n",
    "  echo \"hello number $i\"\n",
    "done\n"
   ]
  },
  {
   "cell_type": "markdown",
   "metadata": {},
   "source": [
    "\n",
    "---"
   ]
  },
  {
   "cell_type": "markdown",
   "metadata": {},
   "source": [
    "#### 5: Automating shell scripts - introducing `cronjobs` \n",
    "* Timings can be learnt about [here](https://crontab.guru/)\n",
    "* Run `crontab -l` to see your current cronjobs, or `crontab -e` to create some new ones "
   ]
  },
  {
   "cell_type": "code",
   "execution_count": null,
   "metadata": {},
   "outputs": [],
   "source": [
    "\n",
    "# CRONTAB\n",
    "# for more info enter 'man crontab'\n",
    "\n",
    "# Example of job definition:\n",
    "# .---------------- minute (0 - 59)\n",
    "# |  .------------- hour (0 - 23)\n",
    "# |  |  .---------- day of month (1 - 31)\n",
    "# |  |  |  .------- month (1 - 12) OR jan,feb,mar,apr ...\n",
    "# |  |  |  |  .---- day of week (0 - 6) (Sunday=0 or 7) OR sun,mon,tue,wed,thu,fri,sat\n",
    "# |  |  |  |  |\n",
    "# *  *  *  *  * user-name  command to be executed\n",
    "\n",
    "*  *  *  *  * /some/path/script.sh > /dev/pts/1"
   ]
  },
  {
   "cell_type": "markdown",
   "metadata": {},
   "source": [
    "---"
   ]
  },
  {
   "cell_type": "markdown",
   "metadata": {},
   "source": [
    "#### 6: Further reading \n",
    "* Installation scripts in bash \n",
    "* Installation scripts in Python using `fabfiles`"
   ]
  },
  {
   "cell_type": "code",
   "execution_count": null,
   "metadata": {},
   "outputs": [],
   "source": [
    "#!/bin/sh\n",
    "\n",
    "# Update packages and Upgrade system - apt-get or yum\n",
    "sudo apt-get update -y\n",
    "sudo apt-get install python3.6 -y\n",
    "\n",
    "# Get git\n",
    "echo 'Installing Git..'\n",
    "sudo apt-get install git -y\n",
    "\n",
    "# Get git repo\n",
    "echo 'Getting the repo..'\n",
    "git clone https://bla.git\n",
    "\n",
    "# Install requirements files\n",
    "echo 'Installing the necessary packages'\n",
    "pip install -r requirements.txt\n",
    "\n",
    "# Plus any other necessary steps here\n",
    "source new_scripts.sh"
   ]
  }
 ],
 "metadata": {
  "kernelspec": {
   "display_name": "Python 3",
   "language": "python",
   "name": "python3"
  },
  "language_info": {
   "codemirror_mode": {
    "name": "ipython",
    "version": 3
   },
   "file_extension": ".py",
   "mimetype": "text/x-python",
   "name": "python",
   "nbconvert_exporter": "python",
   "pygments_lexer": "ipython3",
   "version": "3.7.4"
  }
 },
 "nbformat": 4,
 "nbformat_minor": 4
}
